{
 "cells": [
  {
   "cell_type": "markdown",
   "metadata": {},
   "source": [
    "# \"Mouse\" labeled example\n",
    "\n",
    "This notebook walks through an example with the manually labeled contexts for the word \"mouse.\""
   ]
  },
  {
   "cell_type": "code",
   "execution_count": 1,
   "metadata": {},
   "outputs": [
    {
     "name": "stderr",
     "output_type": "stream",
     "text": [
      "/usr/local/lib/python3.7/site-packages/sklearn/utils/linear_assignment_.py:22: FutureWarning: The linear_assignment_ module is deprecated in 0.21 and will be removed from 0.23. Use scipy.optimize.linear_sum_assignment instead.\n",
      "  FutureWarning)\n",
      "/usr/local/lib/python3.7/site-packages/sklearn/externals/joblib/__init__.py:15: FutureWarning: sklearn.externals.joblib is deprecated in 0.21 and will be removed in 0.23. Please import this functionality directly from joblib, which can be installed with: pip install joblib. If this warning is raised when loading pickled models, you may need to re-serialize those models with scikit-learn 0.21+.\n",
      "  warnings.warn(msg, category=FutureWarning)\n",
      "/usr/local/lib/python3.7/site-packages/sklearn/utils/deprecation.py:144: FutureWarning: The sklearn.neighbors.nearest_centroid module is  deprecated in version 0.22 and will be removed in version 0.24. The corresponding classes / functions should instead be imported from sklearn.neighbors. Anything that cannot be imported from sklearn.neighbors is now part of the private API.\n",
      "  warnings.warn(message, FutureWarning)\n"
     ]
    }
   ],
   "source": [
    "from contexts import *\n",
    "from transformembeddings import *\n",
    "from vizembeddings import *\n",
    "%matplotlib inline"
   ]
  },
  {
   "cell_type": "code",
   "execution_count": 2,
   "metadata": {},
   "outputs": [],
   "source": [
    "from sqlalchemy import create_engine\n",
    "from sqlalchemy.orm import sessionmaker"
   ]
  },
  {
   "cell_type": "code",
   "execution_count": 3,
   "metadata": {},
   "outputs": [],
   "source": [
    "# database with Wikipedia corpus\n",
    "database_path = 'sqlite:///../embed_wiki_data/wikidb.db'\n",
    "\n",
    "# fastText precomputed vectors\n",
    "ft_path = \"../embed_wiki_data/wiki.en.bin\"\n",
    "\n",
    "# pretrained BERT model\n",
    "bert_path = \"uncased_L-12_H-768_A-12/\""
   ]
  },
  {
   "cell_type": "code",
   "execution_count": 4,
   "metadata": {},
   "outputs": [],
   "source": [
    "engine = create_engine(database_path)\n",
    "\n",
    "session = sessionmaker()\n",
    "session.configure(bind=engine)\n",
    "s = session()"
   ]
  },
  {
   "cell_type": "markdown",
   "metadata": {},
   "source": [
    "# Load labeled data"
   ]
  },
  {
   "cell_type": "code",
   "execution_count": 5,
   "metadata": {},
   "outputs": [],
   "source": [
    "labeled = LabeledContexts(\"mouse_labeled_example/mouse_coded_200.json\",\n",
    "                                   context_data = {\n",
    "                                       \"word\": \"mouse\",\n",
    "                                       \"context_type\": \"sentence\",\n",
    "                                       \"window_size\": None,\n",
    "                                       \"randomized\": False,\n",
    "                                   }\n",
    "                                  )"
   ]
  },
  {
   "cell_type": "markdown",
   "metadata": {},
   "source": [
    "# Let's inspect the data\n",
    "\n",
    "\n",
    "## Last 20 examples\n"
   ]
  },
  {
   "cell_type": "code",
   "execution_count": 6,
   "metadata": {},
   "outputs": [
    {
     "data": {
      "text/plain": [
       "['Crusio showed that about 50% of the variation found between different inbred mouse strains in the sizes of their IIPMF were due to genetic differences.',\n",
       " 'He and his co-editors developed standards for the publication of mouse mutant studies for this journal.',\n",
       " 'In Heidelberg, Crusio became interested in the inheritance of variations in the neuroanatomy of the mouse hippocampus.',\n",
       " 'A good mouse model for the Fragile X syndrome is available because there are mice in which the \"Fmr1\" gene has been changed so that it does not work any more.',\n",
       " 'Injecting mouse pups with thyroxine results in larger IIPMF projections.',\n",
       " 'Then one mouse asks who will volunteer to put the bell on the cat?',\n",
       " \"Several species of native mammals including echidnas, the Ooldea dunnart, kultarr, red kangaroo, eastern wallaroo, Gould's wattled bat, lesser long-eared bat, spinifex hopping mouse, sandy inland mouse and dingos have been recorded on the Angas Downs.\",\n",
       " 'Engelbart was known for inventing the computer mouse in 1964.',\n",
       " 'A young mouse named Bisky who lives at Redwall Abbey figures out riddles with his friends to find four beautiful jewels that had been hidden in Redwall a long time ago.',\n",
       " 'George Davis Snell  George Davis Snell (December 19, 1903 – June 6, 1996) was an American mouse geneticist and basic transplant immunologist.',\n",
       " 'He owns a parrot called Polynesia, a pig called Gub-Gub, a dog called Jip, a duck called Dab-Dab, a monkey called Chee-Chee, an owl called Too-Too, and a white mouse named \"Whitey\".',\n",
       " 'Content can be synchronized on all devices, apps made for Windows 10 on PCs, Android, and iOS can be made to work on Windows 10 Mobile, and some phones will allow the user to plug in their device to a computer monitor and use a \"Computer-like\" interface with a mouse and keyboard.',\n",
       " 'Handshaking (computing)  Handshaking is the establishment of a connection between the computer and a peripheral device, such as a mouse or a keyboard.',\n",
       " 'Later, rapamycin has been shown to extend mouse lifespan in several separate experiments.',\n",
       " 'The Institute now employs around 900 people and does four main areas of research: human genetics, pathogen genetics, mouse and zebrafish genetics and bioinformatics.',\n",
       " 'This proposal met with general applause, until an old mouse got up and said : \"That is all very well, but who is to bell the Cat ?\".',\n",
       " 'Some said this, and some said that ; but at last a young mouse got up and said he had a proposal to make, which he thought would meet the case.',\n",
       " 'Then the old mouse said : \"It is easy to propose impossible remedies\".',\n",
       " 'The player controls Jerry, the mouse, as he traverses through four different themed worlds – a movie theater, a junkyard, a toy store, and a house.',\n",
       " 'List of Tom and Jerry video games  The animated cat and mouse duo Tom and Jerry, have appeared in various video games.']"
      ]
     },
     "execution_count": 6,
     "metadata": {},
     "output_type": "execute_result"
    }
   ],
   "source": [
    "labeled.contexts[-20:]"
   ]
  },
  {
   "cell_type": "markdown",
   "metadata": {},
   "source": [
    "## The manually assigned labels\n",
    "\n",
    "### 0 = computer device\n",
    "### 1 = animal"
   ]
  },
  {
   "cell_type": "code",
   "execution_count": 7,
   "metadata": {},
   "outputs": [
    {
     "data": {
      "text/plain": [
       "[1, 1, 1, 1, 1, 1, 1, 0, 1, 1, 1, 0, 0, 1, 1, 1, 1, 1, 1, 1]"
      ]
     },
     "execution_count": 7,
     "metadata": {},
     "output_type": "execute_result"
    }
   ],
   "source": [
    "labeled.true_labels[-20:]"
   ]
  },
  {
   "cell_type": "markdown",
   "metadata": {},
   "source": [
    "# Computing vector representations for each model"
   ]
  },
  {
   "cell_type": "code",
   "execution_count": 8,
   "metadata": {},
   "outputs": [],
   "source": [
    "# fastText\n",
    "ft = ContextEmbeddings(labeled, \n",
    "                                tf_idf_weighting = True, \n",
    "                                mask_pct = None, \n",
    "                                exclude_word = False\n",
    "                           )\n",
    "\n",
    "# ft.extract_embeddings(\"fastText\",\n",
    "#                               ft_path = ft_path)\n",
    "\n",
    "# ft.pickle_embeddings(\"mouse_labeled_example/ft_mouse.pkl\") \n",
    "\n",
    "# after extracting the embeddings and pickling them, they can be loaded from a file\n",
    "ft.extract_embeddings(\"fastText\",\n",
    "                              use_pkl = True,\n",
    "                              pkl_path = \"mouse_labeled_example/ft_mouse.pkl\")\n",
    "\n",
    "# ELMo\n",
    "elmo = ContextEmbeddings(labeled, \n",
    "                                tf_idf_weighting = True, \n",
    "                                mask_pct = None, \n",
    "                                exclude_word = False\n",
    "                           )\n",
    "\n",
    "# elmo.extract_embeddings(\"ELMO\")\n",
    "\n",
    "# elmo.pickle_embeddings(\"mouse_labeled_example/elmo_mouse.pkl\")\n",
    "\n",
    "# after extracting the embeddings and pickling them, they can be loaded from a file\n",
    "elmo.extract_embeddings(\"fastText\",\n",
    "                              use_pkl = True,\n",
    "                              pkl_path = \"mouse_labeled_example/elmo_mouse.pkl\")\n",
    "\n",
    "# BERT\n",
    "bert = ContextEmbeddings(labeled, \n",
    "                                tf_idf_weighting = True, \n",
    "                                mask_pct = None, \n",
    "                                exclude_word = False\n",
    "                           )\n",
    "\n",
    "# bert.extract_embeddings(\"BERT\",\n",
    "#                              bert_path = bert_path\n",
    "#                               )\n",
    "\n",
    "# bert.pickle_embeddings(\"mouse_labeled_example/bert_mouse.pkl\")\n",
    "\n",
    "# after extracting the embeddings and pickling them, they can be loaded from a file\n",
    "bert.extract_embeddings(\"BERT\",\n",
    "                              use_pkl = True,\n",
    "                              pkl_path = \"mouse_labeled_example/bert_mouse.pkl\")"
   ]
  },
  {
   "cell_type": "markdown",
   "metadata": {},
   "source": [
    "# Inspecting the representations: ELMo\n",
    "\n",
    "As an example, we will inspect the ELMo representations (the other cases are analogous)."
   ]
  },
  {
   "cell_type": "code",
   "execution_count": 9,
   "metadata": {
    "scrolled": true
   },
   "outputs": [
    {
     "data": {
      "text/html": [
       "<div>\n",
       "<style scoped>\n",
       "    .dataframe tbody tr th:only-of-type {\n",
       "        vertical-align: middle;\n",
       "    }\n",
       "\n",
       "    .dataframe tbody tr th {\n",
       "        vertical-align: top;\n",
       "    }\n",
       "\n",
       "    .dataframe thead th {\n",
       "        text-align: right;\n",
       "    }\n",
       "</style>\n",
       "<table border=\"1\" class=\"dataframe\">\n",
       "  <thead>\n",
       "    <tr style=\"text-align: right;\">\n",
       "      <th></th>\n",
       "      <th>0</th>\n",
       "      <th>1</th>\n",
       "      <th>2</th>\n",
       "      <th>3</th>\n",
       "      <th>4</th>\n",
       "      <th>5</th>\n",
       "      <th>6</th>\n",
       "      <th>7</th>\n",
       "      <th>8</th>\n",
       "      <th>9</th>\n",
       "      <th>...</th>\n",
       "      <th>1014</th>\n",
       "      <th>1015</th>\n",
       "      <th>1016</th>\n",
       "      <th>1017</th>\n",
       "      <th>1018</th>\n",
       "      <th>1019</th>\n",
       "      <th>1020</th>\n",
       "      <th>1021</th>\n",
       "      <th>1022</th>\n",
       "      <th>1023</th>\n",
       "    </tr>\n",
       "  </thead>\n",
       "  <tbody>\n",
       "    <tr>\n",
       "      <th>0</th>\n",
       "      <td>-0.000443</td>\n",
       "      <td>0.000699</td>\n",
       "      <td>-0.001278</td>\n",
       "      <td>-0.001169</td>\n",
       "      <td>0.001374</td>\n",
       "      <td>-0.000338</td>\n",
       "      <td>0.000036</td>\n",
       "      <td>0.000252</td>\n",
       "      <td>-0.000591</td>\n",
       "      <td>-0.000845</td>\n",
       "      <td>...</td>\n",
       "      <td>-0.001754</td>\n",
       "      <td>0.002447</td>\n",
       "      <td>-0.000618</td>\n",
       "      <td>0.002898</td>\n",
       "      <td>-0.000687</td>\n",
       "      <td>0.001004</td>\n",
       "      <td>0.005076</td>\n",
       "      <td>-0.000021</td>\n",
       "      <td>-0.000230</td>\n",
       "      <td>0.000596</td>\n",
       "    </tr>\n",
       "    <tr>\n",
       "      <th>1</th>\n",
       "      <td>-0.000741</td>\n",
       "      <td>-0.000606</td>\n",
       "      <td>-0.000503</td>\n",
       "      <td>-0.000568</td>\n",
       "      <td>0.000330</td>\n",
       "      <td>-0.000696</td>\n",
       "      <td>-0.000036</td>\n",
       "      <td>0.002158</td>\n",
       "      <td>-0.001493</td>\n",
       "      <td>-0.000784</td>\n",
       "      <td>...</td>\n",
       "      <td>-0.000848</td>\n",
       "      <td>0.001516</td>\n",
       "      <td>-0.001223</td>\n",
       "      <td>0.001910</td>\n",
       "      <td>-0.000303</td>\n",
       "      <td>0.000261</td>\n",
       "      <td>0.001873</td>\n",
       "      <td>0.000477</td>\n",
       "      <td>0.000607</td>\n",
       "      <td>0.000468</td>\n",
       "    </tr>\n",
       "    <tr>\n",
       "      <th>2</th>\n",
       "      <td>0.000181</td>\n",
       "      <td>0.002019</td>\n",
       "      <td>-0.001354</td>\n",
       "      <td>0.000197</td>\n",
       "      <td>0.000318</td>\n",
       "      <td>-0.000173</td>\n",
       "      <td>0.001188</td>\n",
       "      <td>0.000820</td>\n",
       "      <td>-0.000673</td>\n",
       "      <td>-0.000235</td>\n",
       "      <td>...</td>\n",
       "      <td>-0.001605</td>\n",
       "      <td>0.000476</td>\n",
       "      <td>0.000274</td>\n",
       "      <td>0.002060</td>\n",
       "      <td>-0.000663</td>\n",
       "      <td>0.000386</td>\n",
       "      <td>0.004706</td>\n",
       "      <td>0.000562</td>\n",
       "      <td>-0.000258</td>\n",
       "      <td>-0.000290</td>\n",
       "    </tr>\n",
       "    <tr>\n",
       "      <th>3</th>\n",
       "      <td>0.000088</td>\n",
       "      <td>0.001303</td>\n",
       "      <td>-0.000893</td>\n",
       "      <td>-0.000410</td>\n",
       "      <td>0.000723</td>\n",
       "      <td>-0.000008</td>\n",
       "      <td>0.001355</td>\n",
       "      <td>0.002666</td>\n",
       "      <td>-0.001133</td>\n",
       "      <td>-0.000296</td>\n",
       "      <td>...</td>\n",
       "      <td>-0.001787</td>\n",
       "      <td>0.002365</td>\n",
       "      <td>0.000957</td>\n",
       "      <td>0.002027</td>\n",
       "      <td>-0.000102</td>\n",
       "      <td>0.000384</td>\n",
       "      <td>0.005083</td>\n",
       "      <td>0.000480</td>\n",
       "      <td>0.000636</td>\n",
       "      <td>-0.000364</td>\n",
       "    </tr>\n",
       "    <tr>\n",
       "      <th>4</th>\n",
       "      <td>0.000530</td>\n",
       "      <td>0.001783</td>\n",
       "      <td>-0.001024</td>\n",
       "      <td>-0.000588</td>\n",
       "      <td>0.000272</td>\n",
       "      <td>-0.000953</td>\n",
       "      <td>-0.000847</td>\n",
       "      <td>0.001768</td>\n",
       "      <td>-0.001498</td>\n",
       "      <td>-0.000190</td>\n",
       "      <td>...</td>\n",
       "      <td>-0.001874</td>\n",
       "      <td>0.002669</td>\n",
       "      <td>-0.000005</td>\n",
       "      <td>0.002447</td>\n",
       "      <td>-0.001147</td>\n",
       "      <td>0.000555</td>\n",
       "      <td>0.003665</td>\n",
       "      <td>0.000707</td>\n",
       "      <td>0.001139</td>\n",
       "      <td>0.002392</td>\n",
       "    </tr>\n",
       "  </tbody>\n",
       "</table>\n",
       "<p>5 rows × 1024 columns</p>\n",
       "</div>"
      ],
      "text/plain": [
       "       0         1         2         3         4         5         6     \\\n",
       "0 -0.000443  0.000699 -0.001278 -0.001169  0.001374 -0.000338  0.000036   \n",
       "1 -0.000741 -0.000606 -0.000503 -0.000568  0.000330 -0.000696 -0.000036   \n",
       "2  0.000181  0.002019 -0.001354  0.000197  0.000318 -0.000173  0.001188   \n",
       "3  0.000088  0.001303 -0.000893 -0.000410  0.000723 -0.000008  0.001355   \n",
       "4  0.000530  0.001783 -0.001024 -0.000588  0.000272 -0.000953 -0.000847   \n",
       "\n",
       "       7         8         9     ...      1014      1015      1016      1017  \\\n",
       "0  0.000252 -0.000591 -0.000845  ... -0.001754  0.002447 -0.000618  0.002898   \n",
       "1  0.002158 -0.001493 -0.000784  ... -0.000848  0.001516 -0.001223  0.001910   \n",
       "2  0.000820 -0.000673 -0.000235  ... -0.001605  0.000476  0.000274  0.002060   \n",
       "3  0.002666 -0.001133 -0.000296  ... -0.001787  0.002365  0.000957  0.002027   \n",
       "4  0.001768 -0.001498 -0.000190  ... -0.001874  0.002669 -0.000005  0.002447   \n",
       "\n",
       "       1018      1019      1020      1021      1022      1023  \n",
       "0 -0.000687  0.001004  0.005076 -0.000021 -0.000230  0.000596  \n",
       "1 -0.000303  0.000261  0.001873  0.000477  0.000607  0.000468  \n",
       "2 -0.000663  0.000386  0.004706  0.000562 -0.000258 -0.000290  \n",
       "3 -0.000102  0.000384  0.005083  0.000480  0.000636 -0.000364  \n",
       "4 -0.001147  0.000555  0.003665  0.000707  0.001139  0.002392  \n",
       "\n",
       "[5 rows x 1024 columns]"
      ]
     },
     "execution_count": 9,
     "metadata": {},
     "output_type": "execute_result"
    }
   ],
   "source": [
    "elmo.embedding_representation.head()"
   ]
  },
  {
   "cell_type": "markdown",
   "metadata": {},
   "source": [
    "# Visualizations\n",
    "\n",
    "Now, let's visualize the labeled data.\n",
    "\n",
    "# fastText, PCA"
   ]
  },
  {
   "cell_type": "code",
   "execution_count": 10,
   "metadata": {},
   "outputs": [
    {
     "data": {
      "image/png": "[encoded data removed]",
      "text/plain": [
       "<Figure size 720x576 with 1 Axes>"
      ]
     },
     "metadata": {
      "needs_background": "light"
     },
     "output_type": "display_data"
    }
   ],
   "source": [
    "ft.decompose_embeddings(\"PCA\", 2)\n",
    "\n",
    "plot_labeled_data(ft)"
   ]
  },
  {
   "cell_type": "markdown",
   "metadata": {},
   "source": [
    "## As an aside, let's look at the decomposed representations"
   ]
  },
  {
   "cell_type": "code",
   "execution_count": 11,
   "metadata": {},
   "outputs": [
    {
     "data": {
      "text/plain": [
       "array([[ 2.0748482e-03, -1.0697973e-03],\n",
       "       [-8.4413681e-04, -3.1653469e-04],\n",
       "       [-7.1337936e-04, -1.7194505e-03],\n",
       "       [ 9.5076207e-04, -1.9227032e-03],\n",
       "       [ 3.6944456e-03, -1.2977165e-03],\n",
       "       [-2.9391807e-04, -1.0518028e-03],\n",
       "       [ 3.1567214e-03, -4.3410019e-04],\n",
       "       [ 1.9683950e-03, -2.2748774e-03],\n",
       "       [-1.5442273e-06, -1.0413559e-03],\n",
       "       [-5.1353243e-04, -9.4355666e-04]], dtype=float32)"
      ]
     },
     "execution_count": 11,
     "metadata": {},
     "output_type": "execute_result"
    }
   ],
   "source": [
    "# first 10 observations\n",
    "ft.decomposed_embedding_representation[:10]"
   ]
  },
  {
   "cell_type": "markdown",
   "metadata": {},
   "source": [
    "# BERT, UMAP"
   ]
  },
  {
   "cell_type": "code",
   "execution_count": 12,
   "metadata": {},
   "outputs": [
    {
     "data": {
      "image/png": "[encoded data removed]",
      "text/plain": [
       "<Figure size 720x576 with 1 Axes>"
      ]
     },
     "metadata": {
      "needs_background": "light"
     },
     "output_type": "display_data"
    }
   ],
   "source": [
    "bert.decompose_embeddings(\"TSNE\", 2)\n",
    "\n",
    "plot_labeled_data(bert)"
   ]
  },
  {
   "cell_type": "markdown",
   "metadata": {},
   "source": [
    "# ELMo, PCA"
   ]
  },
  {
   "cell_type": "code",
   "execution_count": 13,
   "metadata": {},
   "outputs": [
    {
     "data": {
      "image/png": "[encoded data removed]",
      "text/plain": [
       "<Figure size 720x576 with 1 Axes>"
      ]
     },
     "metadata": {
      "needs_background": "light"
     },
     "output_type": "display_data"
    }
   ],
   "source": [
    "elmo.decompose_embeddings(\"PCA\", 2)\n",
    "\n",
    "plot_labeled_data(elmo)"
   ]
  },
  {
   "cell_type": "code",
   "execution_count": null,
   "metadata": {},
   "outputs": [],
   "source": []
  }
 ],
 "metadata": {
  "kernelspec": {
   "display_name": "Python 3",
   "language": "python",
   "name": "python3"
  },
  "language_info": {
   "codemirror_mode": {
    "name": "ipython",
    "version": 3
   },
   "file_extension": ".py",
   "mimetype": "text/x-python",
   "name": "python",
   "nbconvert_exporter": "python",
   "pygments_lexer": "ipython3",
   "version": "3.7.3"
  }
 },
 "nbformat": 4,
 "nbformat_minor": 2
}
